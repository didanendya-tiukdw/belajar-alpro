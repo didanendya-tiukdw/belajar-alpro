{
 "cells": [
  {
   "cell_type": "code",
   "execution_count": 10,
   "metadata": {},
   "outputs": [
    {
     "name": "stdout",
     "output_type": "stream",
     "text": [
      "=========== DAFTAR PEMAIN TIM NASIONAL INDONESIA ============\n",
      "Nama:  Nadeo Winata | Klub:  Bali United | Posisi:  GK\n",
      "============================================================\n",
      "Nama:  Pratama Arhan | Klub:  Tokyo Verdy | Posisi:  DF\n",
      "============================================================\n",
      "Nama:  Alfeandra Dewangga | Klub:  PSIS | Posisi:  DF\n",
      "============================================================\n",
      "Nama:  Bayu Fiqri | Klub:  Persib | Posisi:  DF\n",
      "============================================================\n",
      "Nama:  Elkan Baggot | Klub:  Ispich Town | Posisi:  DF\n",
      "============================================================\n",
      "Nama:  Ricky Kambuaya | Klub:  Persebaya | Posisi:  MF\n",
      "============================================================\n",
      "Nama:  Evan Dimas | Klub:  Bhayangkara | Posisi:  MF\n",
      "============================================================\n",
      "Nama:  Ramai Rumakiek | Klub:  Persipura | Posisi:  MF\n",
      "============================================================\n",
      "Nama:  Yabes Roni | Klub:  Bali Unite | Posisi:  MF\n",
      "============================================================\n",
      "Nama:  Ronaldo Kwateh | Klub:  Madur United | Posisi:  FW\n",
      "============================================================\n",
      "Nama:  Egy Maulana | Klub:  FK Senica | Posisi:  FW\n",
      "============================================================\n",
      "=========== DAFTAR PEMAIN TIM NASIONAL INDONESIA ============\n",
      "Nama:  Nadeo Winata | Klub:  Bali United | Posisi:  GK\n",
      "============================================================\n",
      "Nama:  Pratama Arhan | Klub:  Tokyo Verdy | Posisi:  DF\n",
      "============================================================\n",
      "Nama:  Alfeandra Dewangga | Klub:  PSIS | Posisi:  DF\n",
      "============================================================\n",
      "Nama:  Bayu Fiqri | Klub:  Persib | Posisi:  DF\n",
      "============================================================\n"
     ]
    }
   ],
   "source": [
    "def daftar_pemain(nama,klub,posisi):\n",
    "    x = 0\n",
    "    print(\"=========== DAFTAR PEMAIN TIM NASIONAL INDONESIA ============\")\n",
    "    for i in range(len(nama)):\n",
    "        print(\"Nama: \",nama[x],\"|\",\"Klub: \",klub[x],\"|\",\"Posisi: \",posisi[x])\n",
    "        print(\"=\"*60)\n",
    "        x = x + 1\n",
    "\n",
    "nama = (\"Nadeo Winata\",\"Pratama Arhan\",\"Alfeandra Dewangga\",\"Bayu Fiqri\",\"Elkan Baggot\",\"Ricky Kambuaya\",\"Evan Dimas\",\"Ramai Rumakiek\",\"Yabes Roni\",\"Ronaldo Kwateh\",\"Egy Maulana\")\n",
    "klub = (\"Bali United\",\"Tokyo Verdy\",\"PSIS\",\"Persib\",\"Ispich Town\",\"Persebaya\",\"Bhayangkara\",\"Persipura\",\"Bali Unite\",\"Madur United\",\"FK Senica\")\n",
    "posisi = (\"GK\",\"DF\",\"DF\",\"DF\",\"DF\",\"MF\",\"MF\",\"MF\",\"MF\",\"FW\",\"FW\")\n",
    "\n",
    "daftar_pemain(nama,klub,posisi)"
   ]
  },
  {
   "cell_type": "code",
   "execution_count": 12,
   "metadata": {},
   "outputs": [
    {
     "name": "stdout",
     "output_type": "stream",
     "text": [
      "=========== DAFTAR PEMAIN TIM NASIONAL INDONESIA ============\n",
      "Nama:  Nadeo Winata | Klub:  Bali United | Posisi:  GK\n",
      "============================================================\n",
      "Nama:  Pratama Arhan | Klub:  Tokyo Verdy | Posisi:  DF\n",
      "============================================================\n",
      "Nama:  Ricky Kambuaya | Klub:  Persebaya | Posisi:  MF\n",
      "============================================================\n",
      "Nama:  Evan Dimas | Klub:  Bhayangkara | Posisi:  FW\n",
      "============================================================\n",
      "Nama:  Egy Maulana | Klub:  FK Senica | Posisi:  FW\n",
      "============================================================\n"
     ]
    }
   ],
   "source": [
    "def daftar_pemain(nama,klub,posisi):\n",
    "    x = 0\n",
    "    print(\"=========== DAFTAR PEMAIN TIM NASIONAL INDONESIA ============\")\n",
    "    for i in range(len(nama)):\n",
    "        print(\"Nama: \",nama[x],\"|\",\"Klub: \",klub[x],\"|\",\"Posisi: \",posisi[x])\n",
    "        print(\"=\"*60)\n",
    "        x = x + 1\n",
    "\n",
    "nama = (\"Nadeo Winata\",\"Pratama Arhan\",\"Ricky Kambuaya\",\"Evan Dimas\",\"Egy Maulana\")\n",
    "klub = (\"Bali United\",\"Tokyo Verdy\",\"Persebaya\",\"Bhayangkara\",\"FK Senica\")\n",
    "posisi = (\"GK\",\"DF\",\"MF\",\"FW\",\"FW\")\n",
    "\n",
    "daftar_pemain(nama,klub,posisi)"
   ]
  },
  {
   "cell_type": "code",
   "execution_count": 3,
   "metadata": {},
   "outputs": [
    {
     "name": "stdout",
     "output_type": "stream",
     "text": [
      "\n",
      "========== JADWAL KULIAH ==========\n",
      "Senin: dadi\n",
      "===================================\n",
      "Selasa: daid\n",
      "===================================\n",
      "Rabu: daida\n",
      "===================================\n",
      "Kamis: dia\n",
      "===================================\n",
      "Jumat: diad\n",
      "===================================\n",
      "Sabtu: ida\n",
      "===================================\n"
     ]
    }
   ],
   "source": [
    "hari = (\"Senin\",\"Selasa\",\"Rabu\",\"Kamis\",\"Jumat\",\"Sabtu\")\n",
    "list_matkul = []\n",
    "\n",
    "x = 0\n",
    "for i in range(len(hari)):\n",
    "    matkul = input(\"Nama Mata Kuliah Hari %s: \" %(hari[x]))\n",
    "    list_matkul.append(matkul)\n",
    "    x = x + 1\n",
    "\n",
    "print()\n",
    "\n",
    "z = 0\n",
    "print(\"========== JADWAL KULIAH ==========\")\n",
    "for j in range(len(hari)):\n",
    "    print(\"%s: %s\" %(hari[z],list_matkul[z]))\n",
    "    print(\"=\"*35)\n",
    "    z = z + 1"
   ]
  },
  {
   "cell_type": "code",
   "execution_count": 4,
   "metadata": {},
   "outputs": [
    {
     "name": "stdout",
     "output_type": "stream",
     "text": [
      "('abiel', 'itu', 'beban', 'tim', 'Valorant')\n",
      "<class 'tuple'>\n"
     ]
    }
   ],
   "source": [
    "def TambahTuple(tuplenya, tambahan) :\n",
    "    listsementara = list(tuplenya)\n",
    "    listsementara.append(tambahan)\n",
    "    tupleasli = tuple(listsementara)\n",
    "    print(tupleasli)\n",
    "    print(type(tupleasli))\n",
    "\n",
    "tupleku = ('abiel','itu','beban','tim',)\n",
    "TambahTuple(tupleku,'Valorant')"
   ]
  },
  {
   "cell_type": "code",
   "execution_count": 13,
   "metadata": {},
   "outputs": [
    {
     "name": "stdout",
     "output_type": "stream",
     "text": [
      "Buku dengan judul Renungan Harian sejumlah 2 buku\n",
      "Buku dengan judul Matematika sejumlah 1 buku\n",
      "Buku dengan judul Sains sejumlah 2 buku\n",
      "Buku dengan judul Jaringan sejumlah 2 buku\n",
      "Buku dengan judul Pemrograman sejumlah 1 buku\n",
      "Buku dengan judul Majalah Perjodohan sejumlah 1 buku\n",
      "Total buku di dalam lemari adalah : 9 buku\n"
     ]
    }
   ],
   "source": [
    "def hitung(buku):\n",
    "    kamus = dict()\n",
    "    list1 = list()\n",
    "    for x in buku :\n",
    "        if x not in kamus :\n",
    "            kamus[x] = 1\n",
    "        else :\n",
    "            kamus[x] += 1\n",
    "    for y in kamus :\n",
    "        print('Buku dengan judul',y,'sejumlah',kamus.get(y),'buku')\n",
    "    print(\"Total buku di dalam lemari adalah :\",len(buku),'buku')\n",
    "\n",
    "buku = (\n",
    "    \"Renungan Harian\",\"Matematika\",\"Sains\",\"Jaringan\",\"Pemrograman\",\n",
    "    \"Renungan Harian\",\"Sains\",\"Jaringan\",\"Majalah Perjodohan\"\n",
    "    )\n",
    "hitung(buku)"
   ]
  },
  {
   "cell_type": "code",
   "execution_count": 14,
   "metadata": {},
   "outputs": [
    {
     "name": "stdout",
     "output_type": "stream",
     "text": [
      "Buku dengan judul Renungan Harian sejumlah 1 buku\n",
      "Buku dengan judul Matematika sejumlah 1 buku\n",
      "Buku dengan judul Sains sejumlah 1 buku\n",
      "Buku dengan judul Jaringan sejumlah 1 buku\n",
      "Buku dengan judul Pemrograman sejumlah 1 buku\n",
      "Total buku di dalam lemari adalah : 5 buku\n"
     ]
    }
   ],
   "source": [
    "def hitung(buku):\n",
    "    kamus = dict()\n",
    "    list1 = list()\n",
    "    for x in buku :\n",
    "        if x not in kamus :\n",
    "            kamus[x] = 1\n",
    "        else :\n",
    "            kamus[x] += 1\n",
    "    for y in kamus :\n",
    "        print('Buku dengan judul',y,'sejumlah',kamus.get(y),'buku')\n",
    "    print(\"Total buku di dalam lemari adalah :\",len(buku),'buku')\n",
    "\n",
    "buku = (\n",
    "    \"Renungan Harian\",\"Matematika\",\"Sains\",\"Jaringan\",\"Pemrograman\",\n",
    "    )\n",
    "hitung(buku)"
   ]
  },
  {
   "cell_type": "code",
   "execution_count": 15,
   "metadata": {},
   "outputs": [
    {
     "name": "stdout",
     "output_type": "stream",
     "text": [
      "Buku dengan judul Renungan Harian sejumlah 1 buku\n",
      "Buku dengan judul Sains sejumlah 1 buku\n",
      "Buku dengan judul Jaringan sejumlah 1 buku\n",
      "Buku dengan judul Majalah Perjodohan sejumlah 1 buku\n",
      "Total buku di dalam lemari adalah : 4 buku\n"
     ]
    }
   ],
   "source": [
    "def hitung(buku):\n",
    "    kamus = dict()\n",
    "    list1 = list()\n",
    "    for x in buku :\n",
    "        if x not in kamus :\n",
    "            kamus[x] = 1\n",
    "        else :\n",
    "            kamus[x] += 1\n",
    "    for y in kamus :\n",
    "        print('Buku dengan judul',y,'sejumlah',kamus.get(y),'buku')\n",
    "    print(\"Total buku di dalam lemari adalah :\",len(buku),'buku')\n",
    "\n",
    "buku = (\n",
    "    \"Renungan Harian\",\"Sains\",\"Jaringan\",\"Majalah Perjodohan\"\n",
    "    )\n",
    "hitung(buku)"
   ]
  },
  {
   "cell_type": "code",
   "execution_count": 19,
   "metadata": {},
   "outputs": [
    {
     "name": "stdout",
     "output_type": "stream",
     "text": [
      "Irisan dari kedua himpunan tersebut adalah (1, 2, 3, 4)\n",
      "Irisan dari kedua himpunan tersebut adalah (1,)\n",
      "Irisan dari kedua himpunan tersebut adalah (3, 1)\n"
     ]
    }
   ],
   "source": [
    "def himpunan(himp1,himp2) :\n",
    "    penampung = []\n",
    "    for i in himp1 :\n",
    "        if i in himp2 :\n",
    "            penampung.append(i)\n",
    "    akhir = tuple(penampung)\n",
    "    print(\"Irisan dari kedua himpunan tersebut adalah\",akhir)\n",
    "\n",
    "himp1 = (1,2,3,4)\n",
    "himp2 = (3,2,4,1)\n",
    "himp3 = (1,)\n",
    "himp4 = (1,3,5,7,9)\n",
    "\n",
    "himpunan(himp1,himp2)\n",
    "himpunan(himp3,himp1)\n",
    "himpunan(himp2,himp4)\n"
   ]
  },
  {
   "cell_type": "code",
   "execution_count": 23,
   "metadata": {},
   "outputs": [
    {
     "name": "stdout",
     "output_type": "stream",
     "text": [
      "paradoc\n"
     ]
    }
   ],
   "source": [
    "def mirrorChars(input,k):\n",
    " \n",
    "    # create dictionary\n",
    "    original = 'abcdefghijklmnopqrstuvwxyz'\n",
    "    reverse = 'zyxwvutsrqponmlkjihgfedcba'\n",
    "    dictChars = dict(zip(original,reverse))\n",
    " \n",
    "    # separate out string after length k to change\n",
    "    # characters in mirror\n",
    "    prefix = input[0:k-1]\n",
    "    suffix = input[k-1:]\n",
    "    mirror = ''\n",
    " \n",
    "    # change into mirror\n",
    "    for i in range(0,len(suffix)):\n",
    "         mirror = mirror + dictChars[suffix[i]]\n",
    " \n",
    "    # concat prefix and mirrored part\n",
    "    print (prefix+mirror)\n",
    "         \n",
    "input = 'paradox'\n",
    "k = 0\n",
    "mirrorChars(input,k)"
   ]
  }
 ],
 "metadata": {
  "interpreter": {
   "hash": "ad2bdc8ecc057115af97d19610ffacc2b4e99fae6737bb82f5d7fb13d2f2c186"
  },
  "kernelspec": {
   "display_name": "Python 3.9.7 ('base')",
   "language": "python",
   "name": "python3"
  },
  "language_info": {
   "codemirror_mode": {
    "name": "ipython",
    "version": 3
   },
   "file_extension": ".py",
   "mimetype": "text/x-python",
   "name": "python",
   "nbconvert_exporter": "python",
   "pygments_lexer": "ipython3",
   "version": "3.9.7"
  },
  "orig_nbformat": 4
 },
 "nbformat": 4,
 "nbformat_minor": 2
}
