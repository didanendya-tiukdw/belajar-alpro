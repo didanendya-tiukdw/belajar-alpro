{
 "cells": [
  {
   "cell_type": "code",
   "execution_count": 10,
   "metadata": {},
   "outputs": [
    {
     "name": "stdout",
     "output_type": "stream",
     "text": [
      "dos\n",
      "empat\n"
     ]
    },
    {
     "data": {
      "text/plain": [
       "4"
      ]
     },
     "execution_count": 10,
     "metadata": {},
     "output_type": "execute_result"
    }
   ],
   "source": [
    "engs2sp = dict()\n",
    "#print(type(engs2sp))\n",
    "#print(engs2sp)\n",
    "\n",
    "engs2sp = {\"one\":\"uno\",\"two\":\"dos\",\"three\":\"tres\",\"four\":\"empat\"}\n",
    "#print(engs2sp)\n",
    "\n",
    "print(engs2sp[\"two\"])\n",
    "\n",
    "print(engs2sp[\"four\"])\n",
    "\n",
    "len(engs2sp)"
   ]
  },
  {
   "cell_type": "code",
   "execution_count": 13,
   "metadata": {},
   "outputs": [
    {
     "name": "stdout",
     "output_type": "stream",
     "text": [
      "{'one': 'uno', 'two': 'dos', 'three': 'tres', 'four': 'empat'}\n",
      "True\n",
      "False\n"
     ]
    }
   ],
   "source": [
    "print(engs2sp)\n",
    "print(\"one\" in engs2sp)\n",
    "print(\"uno\" in engs2sp)"
   ]
  },
  {
   "cell_type": "code",
   "execution_count": 17,
   "metadata": {},
   "outputs": [
    {
     "name": "stdout",
     "output_type": "stream",
     "text": [
      "['uno', 'dos', 'tres', 'empat']\n",
      "True\n"
     ]
    }
   ],
   "source": [
    "vals = list(engs2sp.values())\n",
    "print(vals)\n",
    "print(\"uno\" in vals)"
   ]
  },
  {
   "cell_type": "code",
   "execution_count": 24,
   "metadata": {},
   "outputs": [
    {
     "name": "stdout",
     "output_type": "stream",
     "text": [
      "{'U': 1, 'n': 3, 'i': 3, 'v': 1, 'e': 2, 'r': 3, 's': 3, 't': 4, 'a': 8, ' ': 4, 'K': 1, 'D': 1, 'u': 1, 'W': 1, 'c': 1, 'Y': 1, 'o': 1, 'g': 1, 'y': 1, 'k': 1}\n"
     ]
    }
   ],
   "source": [
    "kata = \"Universitas Kristen Duta Wacana Yogyakarta\"\n",
    "kamus = dict()\n",
    "for i in kata:\n",
    "    if i not in kamus:\n",
    "        kamus[i] = 1\n",
    "    else:\n",
    "        kamus[i] = kamus[i] + 1\n",
    "\n",
    "print(kamus)"
   ]
  },
  {
   "cell_type": "code",
   "execution_count": 30,
   "metadata": {},
   "outputs": [
    {
     "name": "stdout",
     "output_type": "stream",
     "text": [
      "{'chuck': 1, 'annie': 2, 'jan': 3}\n",
      "3\n",
      "X\n"
     ]
    }
   ],
   "source": [
    "c = {\"chuck\":1,\"annie\":2,\"jan\":3}\n",
    "print(c)\n",
    "print(c.get(\"jan\",0))\n",
    "print(c.get(\"david\",\"X\"))"
   ]
  },
  {
   "cell_type": "code",
   "execution_count": 35,
   "metadata": {},
   "outputs": [
    {
     "name": "stdout",
     "output_type": "stream",
     "text": [
      "{'D': 1, 'u': 1, 't': 1, 'a': 4, ' ': 1, 'W': 1, 'c': 1, 'n': 1}\n"
     ]
    }
   ],
   "source": [
    "kata = \"Duta Wacana\"\n",
    "kamus = dict()\n",
    "for i in kata:\n",
    "    if i not in kamus:\n",
    "        kamus[i] = 1\n",
    "    else:\n",
    "        kamus[i] = kamus[i] + 1\n",
    "print(kamus)"
   ]
  },
  {
   "cell_type": "code",
   "execution_count": 34,
   "metadata": {},
   "outputs": [
    {
     "name": "stdout",
     "output_type": "stream",
     "text": [
      "{'D': 1, 'u': 1, 't': 1, 'a': 4, ' ': 1, 'W': 1, 'c': 1, 'n': 1}\n"
     ]
    }
   ],
   "source": [
    "kata = \"Duta Wacana\"\n",
    "kamus = dict()\n",
    "for i in kata:\n",
    "    kamus[i] = kamus.get(i,0) + 1\n",
    "print(kamus)"
   ]
  },
  {
   "cell_type": "code",
   "execution_count": 39,
   "metadata": {},
   "outputs": [
    {
     "name": "stdout",
     "output_type": "stream",
     "text": [
      "{'Kelanjutan': 1, 'karier': 1, 'Cristiano': 1, 'Ronaldo': 3, 'di': 1, 'Manchester': 1, 'United': 2, 'sudah': 1, 'jadi': 1, 'spekulasi': 1, 'belakangan': 1, 'ini': 1, 'Tapi': 1, 'David': 1, 'Beckham': 2, 'berharap': 1, 'bertahan': 1, 'dan': 1, 'terus': 1, 'bikin': 1, 'gol': 1, 'Hal': 1, 'itu': 1, 'dikatakan': 1, 'saat': 1, 'menyaksikan': 1, 'race': 1, 'F1': 1, 'GP': 1, 'Miami': 1, 'pada': 1, 'akhir': 1, 'pekan': 1, 'Menurut': 1, 'legenda': 1, 'Man': 1, 'tersebut': 1, 'masih': 1, 'merupakan': 1, 'sosok': 1, 'luar': 1, 'biasa': 1, 'yang': 1, 'diperlukan': 1, 'oleh': 1, 'the': 1, 'Red': 1, 'Devils': 1}\n"
     ]
    }
   ],
   "source": [
    "fname = input(\"File teks : \")\n",
    "try:\n",
    "    fhand = open(fname) \n",
    "except:\n",
    "    print(\"File tidak ada\", fname)\n",
    "    exit()\n",
    "\n",
    "kamus = dict()\n",
    "for line in fhand:\n",
    "    kumpulankata = line.split()\n",
    "    for kata in kumpulankata:\n",
    "        if kata not in kamus:\n",
    "            kamus[kata] = 1\n",
    "        else:\n",
    "            kamus[kata] += 1\n",
    "\n",
    "print(kamus)"
   ]
  },
  {
   "cell_type": "code",
   "execution_count": 43,
   "metadata": {},
   "outputs": [
    {
     "name": "stdout",
     "output_type": "stream",
     "text": [
      "chuck 1\n",
      "annie 42\n",
      "jan 100\n"
     ]
    }
   ],
   "source": [
    "c = {\"chuck\":1,\"annie\":42,\"jan\":100}\n",
    "for key in c:\n",
    "    print(key, c[key])"
   ]
  },
  {
   "cell_type": "code",
   "execution_count": 46,
   "metadata": {},
   "outputs": [
    {
     "name": "stdout",
     "output_type": "stream",
     "text": [
      "annie 42\n",
      "jan 100\n"
     ]
    }
   ],
   "source": [
    "c = {\"chuck\":1,\"annie\":42,\"bannie\":5,\"jan\":100}\n",
    "for key in c:\n",
    "    if c[key] > 10:\n",
    "        print(key, c[key])"
   ]
  },
  {
   "cell_type": "code",
   "execution_count": 55,
   "metadata": {},
   "outputs": [
    {
     "name": "stdout",
     "output_type": "stream",
     "text": [
      "{'chuck': 1, 'annie': 42, 'bannie': 5, 'jan': 100}\n",
      "['chuck', 'annie', 'bannie', 'jan']\n",
      "['annie', 'bannie', 'chuck', 'jan']\n",
      "annie 42 annie 42\n",
      "bannie 5 bannie 5\n",
      "chuck 1 chuck 1\n",
      "jan 100 jan 100\n"
     ]
    }
   ],
   "source": [
    "c = {\"chuck\":1,\"annie\":42,\"bannie\":5,\"jan\":100}\n",
    "print(c)\n",
    "lst = list(c.keys())\n",
    "print(lst)\n",
    "lst.sort()\n",
    "print(lst)\n",
    "for key in lst:\n",
    "    print(key, c[key], key, c[key])"
   ]
  },
  {
   "cell_type": "code",
   "execution_count": 56,
   "metadata": {},
   "outputs": [
    {
     "name": "stdout",
     "output_type": "stream",
     "text": [
      "{'But': 1, 'soft': 1, 'what': 1, 'light': 1, 'through': 1, 'yonder': 1, 'window': 1, 'breaks': 1, 'It': 1, 'is': 3, 'the': 3, 'east': 1, 'and': 3, 'Juliet': 1, 'sun': 2, 'Arise': 1, 'fair': 1, 'kill': 1, 'envious': 1, 'moon': 1, 'Who': 1, 'already': 1, 'sick': 1, 'pale': 1, 'with': 1, 'grief': 1}\n"
     ]
    }
   ],
   "source": [
    "fname = input(\"File teks : \")\n",
    "try:\n",
    "    fhand = open(fname) \n",
    "except:\n",
    "    print(\"File tidak ada\", fname)\n",
    "    exit()\n",
    "\n",
    "kamus = dict()\n",
    "for line in fhand:\n",
    "    kumpulankata = line.split()\n",
    "    for kata in kumpulankata:\n",
    "        if kata not in kamus:\n",
    "            kamus[kata] = 1\n",
    "        else:\n",
    "            kamus[kata] += 1\n",
    "\n",
    "print(kamus)"
   ]
  },
  {
   "cell_type": "code",
   "execution_count": 57,
   "metadata": {},
   "outputs": [
    {
     "data": {
      "text/plain": [
       "'!\"#$%&\\'()*+,-./:;<=>?@[\\\\]^_`{|}~'"
      ]
     },
     "execution_count": 57,
     "metadata": {},
     "output_type": "execute_result"
    }
   ],
   "source": [
    "import string\n",
    "string.punctuation"
   ]
  },
  {
   "cell_type": "code",
   "execution_count": 64,
   "metadata": {},
   "outputs": [
    {
     "name": "stdout",
     "output_type": "stream",
     "text": [
      "{'but': 1, 'soft': 1, 'what': 1, 'light': 1, 'through': 1, 'yonder': 1, 'window': 1, 'breaks': 1, 'it': 1, 'is': 3, 'the': 3, 'east': 1, 'and': 3, 'juliet': 1, 'sun': 2, 'arise': 1, 'fair': 1, 'kill': 1, 'envious': 1, 'moon': 1, 'who': 1, 'already': 1, 'sick': 1, 'pale': 1, 'with': 1, 'grief': 1}\n"
     ]
    }
   ],
   "source": [
    "import string\n",
    "\n",
    "fname = input(\"File teks : \")\n",
    "try:\n",
    "    fhand = open(fname) \n",
    "except:\n",
    "    print(\"File tidak ada\", fname)\n",
    "    exit()\n",
    "\n",
    "kamus = dict()\n",
    "for line in fhand:\n",
    "    line = line.rstrip()\n",
    "    line = line.translate(line.maketrans(\"\",\"\",string.punctuation))\n",
    "    #line = line.upper()\n",
    "    line = line.lower()\n",
    "    kumpulankata = line.split()\n",
    "    for kata in kumpulankata:\n",
    "        if kata not in kamus:\n",
    "            kamus[kata] = 1\n",
    "        else:\n",
    "            kamus[kata] += 1\n",
    "\n",
    "print(kamus)"
   ]
  },
  {
   "cell_type": "code",
   "execution_count": 67,
   "metadata": {},
   "outputs": [
    {
     "name": "stdout",
     "output_type": "stream",
     "text": [
      "Dictionary =  {1: 1, 2: 4, 3: 9, 4: 16, 5: 25, 6: 36, 7: 49, 8: 64, 9: 81, 10: 100, 11: 121, 12: 144, 13: 169, 14: 196, 15: 225}\n"
     ]
    }
   ],
   "source": [
    "n = int(input(\"Input Data N = \"))\n",
    "kamus = dict()\n",
    "\n",
    "for x in range(1,n+1):\n",
    "    kamus[x] = x*x\n",
    "\n",
    "print(\"Dictionary = \", kamus)"
   ]
  },
  {
   "cell_type": "code",
   "execution_count": 70,
   "metadata": {},
   "outputs": [
    {
     "name": "stdout",
     "output_type": "stream",
     "text": [
      "Data asli =  [{'V': 'S001'}, {'V': 'S002'}, {'VI': 'S001'}, {'VI': 'S005'}, {'VII': 'S005'}, {'V': 'S009'}, {'VIII': 'S007'}]\n",
      "Nila Unik =  {'S007', 'S002', 'S001', 'S005', 'S009'}\n"
     ]
    }
   ],
   "source": [
    "data = [{\"V\":\"S001\"}, {\"V\": \"S002\"}, \n",
    "{\"VI\": \"S001\"}, {\"VI\": \"S005\"}, {\"VII\":\"S005\"}, \n",
    "{\"V\":\"S009\"},{\"VIII\":\"S007\"}]\n",
    "\n",
    "print(\"Data asli = \",data)\n",
    "data_unik = set (val for dic in data for val in dic.values())\n",
    "print(\"Nila Unik = \",data_unik)"
   ]
  },
  {
   "cell_type": "code",
   "execution_count": 75,
   "metadata": {},
   "outputs": [
    {
     "name": "stdout",
     "output_type": "stream",
     "text": [
      "Daftar Kamus : \n",
      "\n",
      "{'Writing': 1, 'programs': 2, 'or': 3, 'programming': 4, 'is': 5, 'a': 6, 'very': 7, 'creative': 8, 'and': 9, 'rewarding': 10, 'activity': 11, 'You': 12, 'can': 13, 'write': 14, 'for': 16, 'many': 17, 'reasons': 18, 'ranging': 19, 'from': 20, 'making': 21, 'your': 22, 'living': 23, 'to': 24, 'solving': 25, 'difficult': 27, 'data': 28, 'analysis': 29, 'problem': 30, 'having': 32, 'fun': 33, 'helping': 35, 'someone': 36, 'else': 37, 'solve': 38, 'This': 41, 'book': 42, 'assumes': 43, 'that': 44, '{\\\\em': 45, 'everyone}': 46, 'needs': 47, 'know': 49, 'how': 50, 'program': 52, 'once': 55, 'you': 56, 'program,': 60, 'will': 62, 'figure': 63, 'out': 64, 'what': 65, 'want': 67, 'do': 69, 'with': 70, 'newfound': 72, 'skills': 73, 'We': 74, 'are': 75, 'surrounded': 76, 'in': 77, 'our': 78, 'daily': 79, 'lives': 80, 'computers': 82, 'laptops': 85, 'cell': 87, 'phones': 88, 'think': 91, 'of': 92, 'these': 93, 'as': 95, 'personal': 97, 'assistants': 98, 'who': 99, 'take': 101, 'care': 102, 'things': 105, 'on': 106, 'behalf': 108, 'The': 109, 'hardware': 110, 'current-day': 113, 'essentially': 116, 'built': 117, 'continuously': 119, 'ask': 120, 'us': 121, 'the': 122, 'question': 123, 'What': 124, 'would': 125, 'like': 127, 'me': 128, 'next': 131, 'Our': 132, 'fast': 135, 'have': 137, 'vasts': 138, 'amounts': 139, 'memory': 141, 'could': 143, 'be': 144, 'helpful': 146, 'if': 149, 'we': 150, 'only': 151, 'knew': 152, 'language': 154, 'speak': 156, 'explain': 158, 'computer': 161, 'it': 166, 'If': 170, 'this': 173, 'tell': 177, 'tasks': 182, 'were': 187, 'reptitive': 188, 'Interestingly,': 189, 'kinds': 191, 'best': 197, 'often': 199, 'humans': 206, 'find': 207, 'boring': 208, 'mind-numbing': 210}\n",
      "Kata Indonesia tidak ditemukan dalam kamus\n"
     ]
    }
   ],
   "source": [
    "count = 0\n",
    "kamus = dict()\n",
    "\n",
    "fname = input(\"Masukkan Nama File : \")\n",
    "fword = input(\"Kata yang dicari : \")\n",
    "\n",
    "try:\n",
    "    fhand = open(fname)\n",
    "except:\n",
    "    print(\"File tidak ada\", fname)\n",
    "    exit()\n",
    "\n",
    "for line in fhand:\n",
    "    daftarkata = line.split()\n",
    "    for kata in daftarkata:\n",
    "        count += 1\n",
    "        if kata in kamus:\n",
    "            continue\n",
    "        kamus[kata] = count\n",
    "\n",
    "print(\"Daftar Kamus : \\n\")\n",
    "print(kamus)\n",
    "\n",
    "if fword in kamus:\n",
    "    print(\"Kata %s ditemukan dalam kamus\" %fword)\n",
    "else:\n",
    "    print(\"Kata %s tidak ditemukan dalam kamus\" %fword)"
   ]
  },
  {
   "cell_type": "code",
   "execution_count": 76,
   "metadata": {},
   "outputs": [
    {
     "name": "stdout",
     "output_type": "stream",
     "text": [
      "{'Sat': 1, 'Fri': 20, 'Thu': 6}\n"
     ]
    }
   ],
   "source": [
    "dictonary_days = dict()\n",
    "\n",
    "fname = input(\"Masukkan Nama File : \")\n",
    "try:\n",
    "    fhand = open(fname)\n",
    "except:\n",
    "    print(\"File tidak ada\", fname)\n",
    "    exit()\n",
    "\n",
    "for line in fhand:\n",
    "    words = line.split()\n",
    "    if len(words) < 3 or words[0] != \"From\":\n",
    "        continue\n",
    "    else:\n",
    "        if words[2] not in dictonary_days:\n",
    "            dictonary_days[words[2]] = 1\n",
    "        else:\n",
    "            dictonary_days[words[2]] += 1\n",
    "\n",
    "print(dictonary_days)"
   ]
  }
 ],
 "metadata": {
  "interpreter": {
   "hash": "b3ba2566441a7c06988d0923437866b63cedc61552a5af99d1f4fb67d367b25f"
  },
  "kernelspec": {
   "display_name": "Python 3.9.7 ('base')",
   "language": "python",
   "name": "python3"
  },
  "language_info": {
   "codemirror_mode": {
    "name": "ipython",
    "version": 3
   },
   "file_extension": ".py",
   "mimetype": "text/x-python",
   "name": "python",
   "nbconvert_exporter": "python",
   "pygments_lexer": "ipython3",
   "version": "3.9.7"
  },
  "orig_nbformat": 4
 },
 "nbformat": 4,
 "nbformat_minor": 2
}
