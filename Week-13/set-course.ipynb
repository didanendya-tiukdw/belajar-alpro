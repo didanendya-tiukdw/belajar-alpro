{
 "cells": [
  {
   "cell_type": "code",
   "execution_count": 2,
   "metadata": {},
   "outputs": [
    {
     "name": "stdout",
     "output_type": "stream",
     "text": [
      "<class 'set'>\n",
      "<class 'set'>\n"
     ]
    }
   ],
   "source": [
    "bil_genap = {2,4,6,8,10,12}\n",
    "print(type(bil_genap))\n",
    "\n",
    "bil_ganjil = {1,3,5,7,9,11}\n",
    "print(type(bil_ganjil))"
   ]
  },
  {
   "cell_type": "code",
   "execution_count": 15,
   "metadata": {},
   "outputs": [
    {
     "name": "stdout",
     "output_type": "stream",
     "text": [
      "<class 'set'>\n",
      "{'Neil Amstrong', 'Buzz Aldrin'}\n"
     ]
    }
   ],
   "source": [
    "#menggunakan fungsi set\n",
    "pernah_kebulan = set(['Neil Amstrong','Buzz Aldrin'])\n",
    "print (type(pernah_kebulan))\n",
    "print(pernah_kebulan)"
   ]
  },
  {
   "cell_type": "code",
   "execution_count": 17,
   "metadata": {},
   "outputs": [
    {
     "name": "stdout",
     "output_type": "stream",
     "text": [
      "<class 'set'>\n",
      "<class 'dict'>\n"
     ]
    }
   ],
   "source": [
    "mars = set()\n",
    "print(type(mars))\n",
    "\n",
    "mars1 = {}\n",
    "print(type(mars1))"
   ]
  },
  {
   "cell_type": "code",
   "execution_count": 24,
   "metadata": {},
   "outputs": [
    {
     "name": "stdout",
     "output_type": "stream",
     "text": [
      "3\n",
      "71200214\n",
      "71200195\n",
      "71200123\n"
     ]
    }
   ],
   "source": [
    "nim = {'71200123','71200195','71200214'}\n",
    "jumlan_nim = len(nim)\n",
    "print(jumlan_nim)\n",
    "\n",
    "for n in nim:\n",
    "    print(n)"
   ]
  },
  {
   "cell_type": "code",
   "execution_count": 32,
   "metadata": {},
   "outputs": [
    {
     "name": "stdout",
     "output_type": "stream",
     "text": [
      "AB 1890 XA\n",
      "AA 6810 MT\n",
      "AD 6810 MT\n",
      "AD 1265 MT\n"
     ]
    }
   ],
   "source": [
    "plat_nomor = set()\n",
    "plat_nomor.add ('AB 1890 XA')\n",
    "plat_nomor.add ('AD 6810 MT')\n",
    "plat_nomor.add ('AD 1265 MT')\n",
    "\n",
    "plat_nomor.add ('AA 6810 MT')\n",
    "\n",
    "plat = len(plat_nomor)\n",
    "\n",
    "for plat in plat_nomor:\n",
    "    print(plat)"
   ]
  },
  {
   "cell_type": "code",
   "execution_count": 37,
   "metadata": {},
   "outputs": [
    {
     "name": "stdout",
     "output_type": "stream",
     "text": [
      "{29, 23, 5, 7, 11, 13}\n",
      "{29, 23, 7, 11, 13}\n"
     ]
    },
    {
     "ename": "KeyError",
     "evalue": "77",
     "output_type": "error",
     "traceback": [
      "\u001b[1;31m---------------------------------------------------------------------------\u001b[0m",
      "\u001b[1;31mKeyError\u001b[0m                                  Traceback (most recent call last)",
      "\u001b[1;32mC:\\Users\\DIDANE~1\\AppData\\Local\\Temp/ipykernel_23280/1729787007.py\u001b[0m in \u001b[0;36m<module>\u001b[1;34m\u001b[0m\n\u001b[0;32m      5\u001b[0m \u001b[0mprint\u001b[0m\u001b[1;33m(\u001b[0m\u001b[0mbil_prima\u001b[0m\u001b[1;33m)\u001b[0m\u001b[1;33m\u001b[0m\u001b[1;33m\u001b[0m\u001b[0m\n\u001b[0;32m      6\u001b[0m \u001b[1;33m\u001b[0m\u001b[0m\n\u001b[1;32m----> 7\u001b[1;33m \u001b[0mbil_prima\u001b[0m\u001b[1;33m.\u001b[0m\u001b[0mremove\u001b[0m\u001b[1;33m(\u001b[0m\u001b[1;36m77\u001b[0m\u001b[1;33m)\u001b[0m\u001b[1;33m\u001b[0m\u001b[1;33m\u001b[0m\u001b[0m\n\u001b[0m",
      "\u001b[1;31mKeyError\u001b[0m: 77"
     ]
    }
   ],
   "source": [
    "bil_prima = {13,23,7,29,11,5}\n",
    "print(bil_prima)\n",
    "\n",
    "bil_prima.remove(5)\n",
    "print(bil_prima)\n",
    "\n",
    "bil_prima.remove(77)"
   ]
  },
  {
   "cell_type": "code",
   "execution_count": 41,
   "metadata": {},
   "outputs": [
    {
     "name": "stdout",
     "output_type": "stream",
     "text": [
      "{29, 23, 5, 7, 11, 13}\n",
      "{29, 23, 5, 7, 13}\n",
      "{29, 23, 5, 7, 13}\n"
     ]
    }
   ],
   "source": [
    "bil_prima = {13,23,7,29,11,5}\n",
    "print(bil_prima)\n",
    "\n",
    "bil_prima.discard(11)\n",
    "print(bil_prima)\n",
    "\n",
    "bil_prima.discard(101)\n",
    "print(bil_prima)"
   ]
  },
  {
   "cell_type": "code",
   "execution_count": 44,
   "metadata": {},
   "outputs": [
    {
     "name": "stdout",
     "output_type": "stream",
     "text": [
      "{29, 23, 5, 7, 11, 13}\n",
      "29\n",
      "{23, 5, 7, 11, 13}\n"
     ]
    }
   ],
   "source": [
    "bil_prima = {13,23,7,29,11,5}\n",
    "print(bil_prima)\n",
    "\n",
    "bil = bil_prima.pop()\n",
    "print (bil)\n",
    "print(bil_prima)"
   ]
  },
  {
   "cell_type": "code",
   "execution_count": 45,
   "metadata": {},
   "outputs": [
    {
     "name": "stdout",
     "output_type": "stream",
     "text": [
      "{29, 23, 5, 7, 11, 13}\n",
      "set()\n"
     ]
    }
   ],
   "source": [
    "bil_prima = {13,23,7,29,11,5}\n",
    "print(bil_prima)\n",
    "\n",
    "bil_prima.clear()\n",
    "print(bil_prima)"
   ]
  },
  {
   "cell_type": "code",
   "execution_count": 48,
   "metadata": {},
   "outputs": [
    {
     "name": "stdout",
     "output_type": "stream",
     "text": [
      "{'salmon', 'koi', 'koki', 'kembung'}\n",
      "{'salmon', 'koki', 'kembung'}\n",
      "{'koki', 'teri', 'kembung', 'salmon'}\n"
     ]
    }
   ],
   "source": [
    "ikan = set(['koi','koki','kembung','salmon'])\n",
    "print(ikan)\n",
    "\n",
    "ikan.remove('koi')\n",
    "print(ikan)\n",
    "\n",
    "ikan.add('teri')\n",
    "print(ikan)"
   ]
  },
  {
   "cell_type": "code",
   "execution_count": 54,
   "metadata": {},
   "outputs": [
    {
     "name": "stdout",
     "output_type": "stream",
     "text": [
      "Union =  {'Daikin', 'Apple', 'Xiaomi', 'Samsung', 'Sony', 'Panasonic', 'LG'}\n",
      "Intersection =  {'Samsung', 'Sony'}\n",
      "Difference =  {'LG', 'Daikin', 'Panasonic'}\n",
      "Sym Difference =  {'Panasonic', 'LG', 'Daikin', 'Apple', 'Xiaomi'}\n",
      "Sym Difference =  {'Daikin', 'Apple', 'Xiaomi', 'Panasonic', 'LG'}\n"
     ]
    }
   ],
   "source": [
    "merk_hp = {'Samsung','Apple','Xiaomi','Sony'}\n",
    "merk_ac = {'LG','Samsung','Panasonic','Daikin','Sony'}\n",
    "\n",
    "gabungan = merk_hp | merk_ac    #union\n",
    "irisan = merk_hp & merk_ac      #intersection\n",
    "hanya_ac = merk_ac - merk_hp    #diffence\n",
    "\n",
    "ac_hp_saja = merk_ac ^ merk_hp #sym_different\n",
    "\n",
    "#sym_different = union - intersection\n",
    "ac_dan_hape = merk_hp.union(merk_ac) - merk_hp.intersection(merk_ac)\n",
    "\n",
    "print(\"Union = \", gabungan)\n",
    "print(\"Intersection = \", irisan)\n",
    "print(\"Difference = \", hanya_ac)\n",
    "\n",
    "print(\"Sym Difference = \", ac_hp_saja)\n",
    "print(\"Sym Difference = \",ac_dan_hape)"
   ]
  },
  {
   "cell_type": "code",
   "execution_count": 57,
   "metadata": {},
   "outputs": [
    {
     "name": "stdout",
     "output_type": "stream",
     "text": [
      "{'Daikin', 'Apple', 'Xiaomi', 'Samsung', 'Sony', 'Panasonic', 'BenQ', 'LG', 'Asus'}\n",
      "{'Sony'}\n"
     ]
    }
   ],
   "source": [
    "merk_hp = {'Samsung','Apple','Xiaomi','Sony'}\n",
    "merk_ac = {'LG','Samsung','Panasonic','Daikin','Sony'}\n",
    "merk_monitor = {'Xiaomi','Sony','Asus','BenQ','LG'}\n",
    "\n",
    "gabungan = merk_hp | merk_ac | merk_monitor\n",
    "irisan = merk_hp & merk_ac & merk_monitor\n",
    "print(gabungan)\n",
    "print(irisan)"
   ]
  },
  {
   "cell_type": "code",
   "execution_count": 61,
   "metadata": {},
   "outputs": [
    {
     "name": "stdout",
     "output_type": "stream",
     "text": [
      "<class 'set'>\n",
      "<class 'list'>\n",
      "35\n"
     ]
    }
   ],
   "source": [
    "def unique_sum(list):\n",
    "    data_set = set(list)\n",
    "    print(type(data_set))\n",
    "\n",
    "    total = 0\n",
    "    for data in data_set:\n",
    "        total = total + data\n",
    "    \n",
    "    return total\n",
    "\n",
    "data = [2, 4, 3, 2, 7, 8, 6, 4, 5, 5] #list input\n",
    "hasil = unique_sum(data)\n",
    "print(type(data))\n",
    "#\n",
    "print(hasil)"
   ]
  },
  {
   "cell_type": "code",
   "execution_count": 63,
   "metadata": {},
   "outputs": [
    {
     "name": "stdout",
     "output_type": "stream",
     "text": [
      "True\n",
      "False\n"
     ]
    }
   ],
   "source": [
    "def cek_duplikat(string):\n",
    "    karakter_set = set()\n",
    "\n",
    "    for karakter in string:\n",
    "        if karakter in karakter_set:\n",
    "            return True\n",
    "        else:\n",
    "            karakter_set.add(karakter)\n",
    "    return False\n",
    "\n",
    "string1 = 'Alexander the great'\n",
    "print(cek_duplikat(string1))\n",
    "\n",
    "string2 = 'UKDW'\n",
    "print(cek_duplikat(string2))"
   ]
  },
  {
   "cell_type": "code",
   "execution_count": 64,
   "metadata": {},
   "outputs": [
    {
     "name": "stdout",
     "output_type": "stream",
     "text": [
      "Masukkan 5 nama aplikasi di kategori Finance\n",
      "Masukkan 5 nama aplikasi di kategori Utilities\n",
      "{'Finance': ['RTI', 'Mirae', 'IPOT', 'Poems', 'Calculator'], 'Utilities': ['Photos', 'Wheater', 'Calculator', 'Camera', 'Notes']}\n",
      "[{'Poems', 'IPOT', 'RTI', 'Calculator', 'Mirae'}, {'Calculator', 'Photos', 'Wheater', 'Notes', 'Camera'}]\n",
      "{'Calculator'}\n"
     ]
    }
   ],
   "source": [
    "n = int(input('Masukkan jumlah kategori : '))\n",
    "\n",
    "data_aplikasi = {}\n",
    "\n",
    "for i in range(n):\n",
    "    nama_kategori = input(\"Masukkan Nama Kategori : \")\n",
    "    print(\"Masukkan 5 nama aplikasi di kategori\", nama_kategori)\n",
    "\n",
    "    aplikasi = []\n",
    "    for j in range (5):\n",
    "        nama_aplikasi = input(\"Nama Aplikasi : \")\n",
    "        aplikasi.append(nama_aplikasi)\n",
    "    \n",
    "    data_aplikasi[nama_kategori] = aplikasi\n",
    "\n",
    "print (data_aplikasi)\n",
    "\n",
    "daftar_aplikasi_list = []\n",
    "for aplikasi in data_aplikasi.values():\n",
    "    daftar_aplikasi_list.append(set(aplikasi))\n",
    "\n",
    "print(daftar_aplikasi_list)\n",
    "\n",
    "hasil = daftar_aplikasi_list[0]\n",
    "for i in range(1,len(daftar_aplikasi_list)):\n",
    "    hasil = hasil.intersection(daftar_aplikasi_list[i])\n",
    "\n",
    "print(hasil)\n",
    "\n"
   ]
  }
 ],
 "metadata": {
  "interpreter": {
   "hash": "ad2bdc8ecc057115af97d19610ffacc2b4e99fae6737bb82f5d7fb13d2f2c186"
  },
  "kernelspec": {
   "display_name": "Python 3.9.7 ('base')",
   "language": "python",
   "name": "python3"
  },
  "language_info": {
   "codemirror_mode": {
    "name": "ipython",
    "version": 3
   },
   "file_extension": ".py",
   "mimetype": "text/x-python",
   "name": "python",
   "nbconvert_exporter": "python",
   "pygments_lexer": "ipython3",
   "version": "3.9.7"
  },
  "orig_nbformat": 4
 },
 "nbformat": 4,
 "nbformat_minor": 2
}
