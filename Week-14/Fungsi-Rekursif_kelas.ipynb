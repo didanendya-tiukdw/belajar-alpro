{
 "cells": [
  {
   "cell_type": "code",
   "execution_count": 2,
   "metadata": {},
   "outputs": [
    {
     "name": "stdout",
     "output_type": "stream",
     "text": [
      "24\n"
     ]
    }
   ],
   "source": [
    "def faktorial(n):\n",
    "    if n==0 or n==1:\n",
    "        return 1\n",
    "    else:\n",
    "        return faktorial(n-1) * n\n",
    "\n",
    "print(faktorial(4))"
   ]
  },
  {
   "cell_type": "code",
   "execution_count": 11,
   "metadata": {},
   "outputs": [
    {
     "name": "stdout",
     "output_type": "stream",
     "text": [
      "2 = 2\n",
      "0\n",
      "2 +  2 +  2 +  2 +  2 +  2 +  2 +  2 = 16\n"
     ]
    }
   ],
   "source": [
    "def perkalian(a,b):\n",
    "    if b == 1:\n",
    "        print (\"%d = \" %(a), end='')\n",
    "        return a\n",
    "    elif b == 0:\n",
    "        return 0\n",
    "    else:\n",
    "        print(\"%d + \" %(a), end=\" \")\n",
    "        return a + perkalian(a, b-1)\n",
    "\n",
    "print(perkalian(2,1))\n",
    "print(perkalian(2,0))\n",
    "print(perkalian(2,8))"
   ]
  },
  {
   "cell_type": "code",
   "execution_count": 13,
   "metadata": {},
   "outputs": [
    {
     "name": "stdout",
     "output_type": "stream",
     "text": [
      "2 = 2\n",
      "1\n",
      "2 *  2 *  2 = 8\n"
     ]
    }
   ],
   "source": [
    "def pangkat(a,b):\n",
    "    if b == 1:\n",
    "        print (\"%d = \" %(a), end='')\n",
    "        return a\n",
    "    elif b == 0:\n",
    "        return 1\n",
    "    else:\n",
    "        print(\"%d * \" %(a), end=\" \")\n",
    "        return a * pangkat(a, b-1)\n",
    "\n",
    "print(pangkat(2,1))\n",
    "print(pangkat(2,0))\n",
    "print(pangkat(2,3))"
   ]
  },
  {
   "cell_type": "code",
   "execution_count": 15,
   "metadata": {},
   "outputs": [
    {
     "name": "stdout",
     "output_type": "stream",
     "text": [
      "1 , 1 , 2 , 3 , 5 , 8 , 13 , "
     ]
    }
   ],
   "source": [
    "#fibo iteratif\n",
    "def fibo(n):\n",
    "    f1,f2=1,1\n",
    "    print(f1,\",\",f2,\",\" ,end=\" \")\n",
    "    for i in range (2,n):\n",
    "        fib = f1 +f2\n",
    "        f1 = f2\n",
    "        f2 = fib\n",
    "        print(fib,\",\" ,end=\" \")\n",
    "\n",
    "fibo(7)"
   ]
  },
  {
   "cell_type": "code",
   "execution_count": 17,
   "metadata": {},
   "outputs": [
    {
     "name": "stdout",
     "output_type": "stream",
     "text": [
      "13\n"
     ]
    }
   ],
   "source": [
    "def fiborek(n):\n",
    "    if n == 1 or n == 2:\n",
    "        return 1\n",
    "    else:  \n",
    "        return fiborek(n-1) + fiborek(n-2)\n",
    "\n",
    "print(fiborek(7))"
   ]
  },
  {
   "cell_type": "code",
   "execution_count": 25,
   "metadata": {},
   "outputs": [
    {
     "name": "stdout",
     "output_type": "stream",
     "text": [
      "1001\n",
      "12\n",
      "F\n"
     ]
    }
   ],
   "source": [
    "def toBasis(n, base):\n",
    "    convertString = \"0123456789ABCDEF\"\n",
    "    if n < base:\n",
    "        return convertString[n]\n",
    "    else:\n",
    "        return toBasis(n//base,base) + convertString[n%base]\n",
    "\n",
    "#print(\"Silakan Input Bilangan dan Basis\")\n",
    "#angka = int(input(\"Bilangan : \" ))\n",
    "#basis = int(input(\"Basis (2/8/16)\"))\n",
    "#print(toBasis(angka,basis))\n",
    "\n",
    "print(toBasis(9,2))\n",
    "print(toBasis(10,8))\n",
    "print(toBasis(15,16))\n"
   ]
  },
  {
   "cell_type": "code",
   "execution_count": 26,
   "metadata": {},
   "outputs": [
    {
     "name": "stdout",
     "output_type": "stream",
     "text": [
      "5040\n"
     ]
    }
   ],
   "source": [
    "#permutasi\n",
    "def permutasi (m,n):\n",
    "    if (n == 0):\n",
    "        return 1\n",
    "    else: \n",
    "        return (permutasi(m,n-1) * (m-n+1))\n",
    "        #permutasi (10,3) * 7\n",
    "        #permutasi (10,2) * 9\n",
    "        #permutasi (10,1) * 10\n",
    "        1\n",
    "\n",
    "print(permutasi(10,4))\n"
   ]
  }
 ],
 "metadata": {
  "interpreter": {
   "hash": "ad2bdc8ecc057115af97d19610ffacc2b4e99fae6737bb82f5d7fb13d2f2c186"
  },
  "kernelspec": {
   "display_name": "Python 3.9.7 ('base')",
   "language": "python",
   "name": "python3"
  },
  "language_info": {
   "codemirror_mode": {
    "name": "ipython",
    "version": 3
   },
   "file_extension": ".py",
   "mimetype": "text/x-python",
   "name": "python",
   "nbconvert_exporter": "python",
   "pygments_lexer": "ipython3",
   "version": "3.9.7"
  },
  "orig_nbformat": 4
 },
 "nbformat": 4,
 "nbformat_minor": 2
}
