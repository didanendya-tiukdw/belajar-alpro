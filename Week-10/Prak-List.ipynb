{
 "cells": [
  {
   "cell_type": "code",
   "execution_count": 3,
   "metadata": {},
   "outputs": [
    {
     "name": "stdout",
     "output_type": "stream",
     "text": [
      "['Pangeran Diponegoro', '2', 2, 3.14]\n",
      "<class 'list'>\n"
     ]
    }
   ],
   "source": [
    "pahlawan = ['Pangeran Diponegoro','2',2,3.14]\n",
    "print(pahlawan)\n",
    "print(type(pahlawan))"
   ]
  },
  {
   "cell_type": "code",
   "execution_count": 7,
   "metadata": {},
   "outputs": [
    {
     "name": "stdout",
     "output_type": "stream",
     "text": [
      "[20, 23, 98, 77, 55]\n",
      "[90, 23, 98, 78, 88]\n"
     ]
    }
   ],
   "source": [
    "nilai = [20,23,98,77,55]\n",
    "print(nilai)\n",
    "nilai[0] = 90\n",
    "nilai[-1] = 88\n",
    "nilai[3] = 78\n",
    "print(nilai)"
   ]
  },
  {
   "cell_type": "code",
   "execution_count": 13,
   "metadata": {},
   "outputs": [
    {
     "name": "stdout",
     "output_type": "stream",
     "text": [
      "['D', 'u', 't', 'a']\n",
      "['K', 'u', 't', 'a']\n",
      "<class 'list'>\n"
     ]
    }
   ],
   "source": [
    "nama = [\"D\",\"u\", \"t\", \"a\"]\n",
    "print(nama)\n",
    "nama[0] = \"K\"\n",
    "print(nama)\n",
    "print(type(nama))"
   ]
  },
  {
   "cell_type": "code",
   "execution_count": 18,
   "metadata": {},
   "outputs": [
    {
     "data": {
      "text/plain": [
       "True"
      ]
     },
     "execution_count": 18,
     "metadata": {},
     "output_type": "execute_result"
    }
   ],
   "source": [
    "a = \"banana\"\n",
    "b = \"banana\"\n",
    "a is b"
   ]
  },
  {
   "cell_type": "code",
   "execution_count": 17,
   "metadata": {},
   "outputs": [
    {
     "data": {
      "text/plain": [
       "False"
      ]
     },
     "execution_count": 17,
     "metadata": {},
     "output_type": "execute_result"
    }
   ],
   "source": [
    "list_a = [\"D\",\"u\", \"t\", \"a\"]\n",
    "list_b = [\"D\",\"u\", \"t\", \"a\"]\n",
    "list_a is list_b"
   ]
  },
  {
   "cell_type": "code",
   "execution_count": 23,
   "metadata": {},
   "outputs": [
    {
     "name": "stdout",
     "output_type": "stream",
     "text": [
      "['D', 'u', 't', 'a', '-', 'W', 'a', 'c', 'a', 'n', 'a']\n"
     ]
    }
   ],
   "source": [
    "#penambahan list\n",
    "list_a = [\"D\",\"u\", \"t\", \"a\",\"-\"]\n",
    "list_b = [\"W\",\"a\", \"c\", \"a\",\"n\",\"a\"]\n",
    "list_c = list_a + list_b\n",
    "print(list_c)"
   ]
  },
  {
   "cell_type": "code",
   "execution_count": 25,
   "metadata": {},
   "outputs": [
    {
     "name": "stdout",
     "output_type": "stream",
     "text": [
      "['D', 'u', 't', 'a', '-', 'D', 'u', 't', 'a', '-', 'D', 'u', 't', 'a', '-']\n"
     ]
    }
   ],
   "source": [
    "#perkalian list\n",
    "list_a = [\"D\",\"u\", \"t\", \"a\",\"-\"]\n",
    "list_c = list_a * 3\n",
    "print(list_c)"
   ]
  },
  {
   "cell_type": "code",
   "execution_count": 35,
   "metadata": {},
   "outputs": [
    {
     "name": "stdout",
     "output_type": "stream",
     "text": [
      "['Universitas', 'Kristen', 'Duta', 'Wacana', 'Yogyakarta']\n",
      "Kristen\n",
      "Yogyakarta\n",
      "5\n",
      "['Kristen', 'Duta']\n",
      "['Universitas', 'Kristen', 'Duta']\n",
      "['Kristen', 'Duta', 'Wacana', 'Yogyakarta']\n",
      "['Universitas', 'Kristen', 'Duta', 'Wacana', 'Yogyakarta']\n"
     ]
    }
   ],
   "source": [
    "list_a = [\"Universitas\",\"Kristen\",\"Duta\",\"Wacana\",\"Yogyakarta\"]\n",
    "print(list_a)\n",
    "print(list_a[1])\n",
    "print(list_a[-1])\n",
    "print(len(list_a))\n",
    "print(list_a[1:3])\n",
    "print(list_a[:3])\n",
    "print(list_a[1:])\n",
    "print(list_a[:])"
   ]
  },
  {
   "cell_type": "code",
   "execution_count": 40,
   "metadata": {},
   "outputs": [
    {
     "name": "stdout",
     "output_type": "stream",
     "text": [
      "['Universitas', 'Kristen', 'Duta', 'Wacana', 'Yogyakarta']\n",
      "['Institut', 'Kristen', 'Duta', 'Wacana', 'Yogyakarta']\n",
      "['Institut', 'Institut', 'Teknologi', 'Wacana', 'Yogyakarta']\n"
     ]
    }
   ],
   "source": [
    "list_a = [\"Universitas\",\"Kristen\",\"Duta\",\"Wacana\",\"Yogyakarta\"]\n",
    "print(list_a)\n",
    "\n",
    "list_a[0] = \"Institut\"\n",
    "print(list_a)\n",
    "\n",
    "list_a[1:3] = [\"Institut\",\"Teknologi\"]\n",
    "print(list_a)"
   ]
  },
  {
   "cell_type": "code",
   "execution_count": 55,
   "metadata": {},
   "outputs": [
    {
     "name": "stdout",
     "output_type": "stream",
     "text": [
      "['Universitas', 'Kristen', 'Duta', 'Wacana', 'Yogyakarta']\n",
      "5\n",
      "['Universitas', 'Kristen', 'Duta', 'Wacana', 'Yogyakarta', ['D.I Yogyakarta', 'Indonesia']]\n",
      "6\n"
     ]
    }
   ],
   "source": [
    "list_a = [\"Universitas\",\"Kristen\",\"Duta\",\"Wacana\",\"Yogyakarta\"]\n",
    "print(list_a)\n",
    "print(len(list_a))\n",
    "\n",
    "#fungsi append\n",
    "list_a.append ([\"D.I Yogyakarta\",\"Indonesia\"])\n",
    "print(list_a)\n",
    "print(len(list_a))"
   ]
  },
  {
   "cell_type": "code",
   "execution_count": 56,
   "metadata": {},
   "outputs": [
    {
     "name": "stdout",
     "output_type": "stream",
     "text": [
      "['Universitas', 'Kristen', 'Duta', 'Wacana', 'Yogyakarta']\n",
      "5\n",
      "['Universitas', 'Kristen', 'Duta', 'Wacana', 'Yogyakarta', 'D.I Yogyakarta', 'Indonesia']\n",
      "7\n"
     ]
    }
   ],
   "source": [
    "list_a = [\"Universitas\",\"Kristen\",\"Duta\",\"Wacana\",\"Yogyakarta\"]\n",
    "print(list_a)\n",
    "print(len(list_a))\n",
    "\n",
    "#fungsi extend\n",
    "list_a.extend ([\"D.I Yogyakarta\",\"Indonesia\"])\n",
    "print(list_a)\n",
    "print(len(list_a))"
   ]
  },
  {
   "cell_type": "code",
   "execution_count": 60,
   "metadata": {},
   "outputs": [
    {
     "name": "stdout",
     "output_type": "stream",
     "text": [
      "['Universitas', 'Kristen', 'Duta', 'Wacana', 'Yogyakarta']\n",
      "['Duta', 'Kristen', 'Universitas', 'Wacana', 'Yogyakarta']\n"
     ]
    }
   ],
   "source": [
    "#sorting\n",
    "list_a = [\"Universitas\",\"Kristen\",\"Duta\",\"Wacana\",\"Yogyakarta\"]\n",
    "print(list_a)\n",
    "list_a.sort()\n",
    "print(list_a)"
   ]
  },
  {
   "cell_type": "code",
   "execution_count": 61,
   "metadata": {},
   "outputs": [
    {
     "name": "stdout",
     "output_type": "stream",
     "text": [
      "['Universitas', 'Kristen', 'Duta', 'Wacana', 'Yogyakarta']\n",
      "['Universitas', 'Kristen', 'Duta', 'Wacana']\n"
     ]
    }
   ],
   "source": [
    "list_a = [\"Universitas\",\"Kristen\",\"Duta\",\"Wacana\",\"Yogyakarta\"]\n",
    "print(list_a)\n",
    "list_a.pop(4)\n",
    "print(list_a)"
   ]
  },
  {
   "cell_type": "code",
   "execution_count": 62,
   "metadata": {},
   "outputs": [
    {
     "name": "stdout",
     "output_type": "stream",
     "text": [
      "['Universitas', 'Kristen', 'Duta', 'Wacana', 'Yogyakarta']\n",
      "['Universitas', 'Kristen', 'Duta', 'Wacana']\n"
     ]
    }
   ],
   "source": [
    "list_a = [\"Universitas\",\"Kristen\",\"Duta\",\"Wacana\",\"Yogyakarta\"]\n",
    "print(list_a)\n",
    "del list_a[4]\n",
    "print(list_a)"
   ]
  },
  {
   "cell_type": "code",
   "execution_count": 65,
   "metadata": {},
   "outputs": [
    {
     "name": "stdout",
     "output_type": "stream",
     "text": [
      "['Universitas', 'Kristen', 'Duta', 'Wacana', 'Yogyakarta']\n",
      "['Universitas', 'Kristen', 'Duta', 'Wacana']\n"
     ]
    }
   ],
   "source": [
    "list_a = [\"Universitas\",\"Kristen\",\"Duta\",\"Wacana\",\"Yogyakarta\"]\n",
    "print(list_a)\n",
    "list_a.remove(\"Yogyakarta\")\n",
    "print(list_a)"
   ]
  },
  {
   "cell_type": "code",
   "execution_count": 74,
   "metadata": {},
   "outputs": [
    {
     "name": "stdout",
     "output_type": "stream",
     "text": [
      "Data Asli :  [10, 99, 88, 99, 77, 66, 32, 101, 5, 44]\n",
      "Panjang List :  10\n",
      "Nilai maksimum nya :  101\n",
      "Nilai minimum nya :  5\n",
      "Total nilainya :  621\n",
      "Urutan datanya :  [5, 10, 32, 44, 66, 77, 88, 99, 99, 101]\n"
     ]
    }
   ],
   "source": [
    "nilai = [10,99,88,99,77,66,32,101,5,44]\n",
    "print(\"Data Asli : \",nilai)\n",
    "print(\"Panjang List : \", len(nilai))\n",
    "print(\"Nilai maksimum nya : \", max(nilai))\n",
    "print(\"Nilai minimum nya : \", min(nilai))\n",
    "print(\"Total nilainya : \",sum(nilai))\n",
    "nilai.sort()\n",
    "print(\"Urutan datanya : \",nilai)"
   ]
  },
  {
   "cell_type": "code",
   "execution_count": 77,
   "metadata": {},
   "outputs": [
    {
     "name": "stdout",
     "output_type": "stream",
     "text": [
      "Universitas Kristen Duta Wacana Yogyakarta\n",
      "<class 'str'>\n",
      "['U', 'n', 'i', 'v', 'e', 'r', 's', 'i', 't', 'a', 's', ' ', 'K', 'r', 'i', 's', 't', 'e', 'n', ' ', 'D', 'u', 't', 'a', ' ', 'W', 'a', 'c', 'a', 'n', 'a', ' ', 'Y', 'o', 'g', 'y', 'a', 'k', 'a', 'r', 't', 'a']\n",
      "<class 'list'>\n"
     ]
    }
   ],
   "source": [
    "nama = \"Universitas Kristen Duta Wacana Yogyakarta\"\n",
    "print(nama)\n",
    "print(type(nama))\n",
    "\n",
    "list_nama = list(nama)\n",
    "print(list_nama)\n",
    "print(type(list_nama))"
   ]
  },
  {
   "cell_type": "code",
   "execution_count": 79,
   "metadata": {},
   "outputs": [
    {
     "name": "stdout",
     "output_type": "stream",
     "text": [
      "['Universitas', 'Kristen', 'Duta', 'Wacana', 'Yogyakarta']\n",
      "<class 'list'>\n"
     ]
    }
   ],
   "source": [
    "nama = \"Universitas Kristen Duta Wacana Yogyakarta\"\n",
    "nama2 = nama.split() #split based on spasi\n",
    "print(nama2)\n",
    "print(type(nama2))"
   ]
  },
  {
   "cell_type": "code",
   "execution_count": 81,
   "metadata": {},
   "outputs": [
    {
     "name": "stdout",
     "output_type": "stream",
     "text": [
      "['Universitas Kristen', 'Duta Wacana Yogyakarta']\n"
     ]
    }
   ],
   "source": [
    "nama = \"Universitas Kristen-Duta Wacana Yogyakarta\"\n",
    "nama2 = nama.split(\"-\")\n",
    "print(nama2)"
   ]
  },
  {
   "cell_type": "code",
   "execution_count": 85,
   "metadata": {},
   "outputs": [
    {
     "name": "stdout",
     "output_type": "stream",
     "text": [
      "['Universitas', 'Kristen', 'Duta', 'Wacana', 'Yogyakarta']\n",
      "<class 'list'>\n",
      "Universitas Kristen Duta Wacana Yogyakarta\n",
      "<class 'str'>\n"
     ]
    }
   ],
   "source": [
    "nama = \"Universitas Kristen Duta Wacana Yogyakarta\"\n",
    "nama2 = nama.split() #split based on spasi\n",
    "print(nama2)\n",
    "print(type(nama2))\n",
    "\n",
    "delimiter = ' '\n",
    "gabung = delimiter.join(nama2)\n",
    "print(gabung)\n",
    "print(type(gabung))"
   ]
  },
  {
   "cell_type": "code",
   "execution_count": 98,
   "metadata": {},
   "outputs": [
    {
     "name": "stdout",
     "output_type": "stream",
     "text": [
      "[' ']\n",
      "[' ']\n"
     ]
    }
   ],
   "source": [
    "n = [56,60,70]\n",
    "n = h\n",
    "n is h\n",
    "print(n)\n",
    "print(h)"
   ]
  },
  {
   "cell_type": "code",
   "execution_count": 95,
   "metadata": {},
   "outputs": [
    {
     "name": "stdout",
     "output_type": "stream",
     "text": [
      "[77, 60, 70]\n",
      "[56, 60, 70]\n"
     ]
    }
   ],
   "source": [
    "n = [56,60,70]\n",
    "h = [56,60,70]\n",
    "n is h\n",
    "n[0] = 77\n",
    "print(n)\n",
    "print(h)"
   ]
  },
  {
   "cell_type": "code",
   "execution_count": 102,
   "metadata": {},
   "outputs": [
    {
     "name": "stdout",
     "output_type": "stream",
     "text": [
      "[3, 5, 9]\n",
      "None\n",
      "[3, 5, 9, 7]\n",
      "[3, 5, 9]\n"
     ]
    }
   ],
   "source": [
    "a1 = [3,5]\n",
    "a2 = a1.append(9)\n",
    "print(a1)\n",
    "print(a2)\n",
    "\n",
    "a3 = a1 + [7]\n",
    "print(a3)\n",
    "print(a1)"
   ]
  },
  {
   "cell_type": "code",
   "execution_count": 103,
   "metadata": {},
   "outputs": [
    {
     "name": "stdout",
     "output_type": "stream",
     "text": [
      "['b', 'c']\n"
     ]
    }
   ],
   "source": [
    "def hapus(inpuList):\n",
    "    return(inpuList[1:])\n",
    "\n",
    "huruf=['a','b','c']\n",
    "print(hapus(huruf))"
   ]
  },
  {
   "cell_type": "code",
   "execution_count": 106,
   "metadata": {},
   "outputs": [
    {
     "name": "stdout",
     "output_type": "stream",
     "text": [
      "True\n",
      "None\n"
     ]
    }
   ],
   "source": [
    "def ceksama(list1,list2):\n",
    "    result = False\n",
    "    for x in list1:\n",
    "        for y in list2:\n",
    "            if x == y:\n",
    "                result = True\n",
    "                return result\n",
    "\n",
    "print(ceksama([1,2,3,4,5],[5,6,7,8,9]))\n",
    "print(ceksama([1,2,3,4,5],[6,7,8,9]))"
   ]
  },
  {
   "cell_type": "code",
   "execution_count": 111,
   "metadata": {},
   "outputs": [
    {
     "name": "stdout",
     "output_type": "stream",
     "text": [
      "1\n",
      "1\n",
      "1\n"
     ]
    }
   ],
   "source": [
    "def terbesarkedua(bilangan):\n",
    "    if(len(bilangan)<2):\n",
    "        return\n",
    "    if(len(bilangan) == 2) and (bilangan[0] == bilangan[1]):\n",
    "        return\n",
    "    \n",
    "    set_item = set()\n",
    "    unik_item = []\n",
    "\n",
    "    for x in bilangan:\n",
    "        if x not in set_item:\n",
    "            unik_item.append(x)\n",
    "            set_item.add(x)\n",
    "    unik_item.sort() #sort ascending (paling kecil,............paling besar)\n",
    "\n",
    "    return unik_item[-2]\n",
    "\n",
    "print(terbesarkedua([1,2,-8,-2,0,-2]))\n",
    "print(terbesarkedua([1,1,0,0,2,-2,-2]))\n",
    "print(terbesarkedua([1,1,1,0,0,0,2,-2,-2]))\n"
   ]
  },
  {
   "cell_type": "code",
   "execution_count": 122,
   "metadata": {},
   "outputs": [
    {
     "name": "stdout",
     "output_type": "stream",
     "text": [
      "False\n",
      "False\n"
     ]
    }
   ],
   "source": [
    "def subList(A,B):\n",
    "    sub_set = False\n",
    "    if B == []:\n",
    "        sub_set = True\n",
    "    elif B == A:\n",
    "        sub_set = True\n",
    "    elif len(B) > len(A):\n",
    "        sub_set =  False\n",
    "    else:\n",
    "        for i in range(len(A)):\n",
    "            if A[i] == B[0]:\n",
    "                n = 1\n",
    "                while (n < len(B)) and ((A[i+n] == B[n])):\n",
    "                    n +=1\n",
    "                if n == len(B):\n",
    "                    sub_set = True\n",
    "        \n",
    "        return sub_set\n",
    "\n",
    "a = [1,4,3,5,7]\n",
    "b = [4,3]\n",
    "c = [3,7]\n",
    "\n",
    "print(subList(a,b))\n",
    "print(subList(a,c))"
   ]
  }
 ],
 "metadata": {
  "interpreter": {
   "hash": "b3ba2566441a7c06988d0923437866b63cedc61552a5af99d1f4fb67d367b25f"
  },
  "kernelspec": {
   "display_name": "Python 3.9.7 ('base')",
   "language": "python",
   "name": "python3"
  },
  "language_info": {
   "codemirror_mode": {
    "name": "ipython",
    "version": 3
   },
   "file_extension": ".py",
   "mimetype": "text/x-python",
   "name": "python",
   "nbconvert_exporter": "python",
   "pygments_lexer": "ipython3",
   "version": "3.9.7"
  },
  "orig_nbformat": 4
 },
 "nbformat": 4,
 "nbformat_minor": 2
}
