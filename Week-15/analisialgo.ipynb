{
 "cells": [
  {
   "cell_type": "code",
   "execution_count": 2,
   "metadata": {},
   "outputs": [
    {
     "name": "stdout",
     "output_type": "stream",
     "text": [
      "Sorted() 1000 dalam waktu 0.0001\n",
      "Sorted() 2000 dalam waktu 0.0002\n",
      "Sorted() 3000 dalam waktu 0.0003\n",
      "Sorted() 4000 dalam waktu 0.0004\n",
      "Sorted() 5000 dalam waktu 0.0004\n",
      "Sorted() 6000 dalam waktu 0.0006\n",
      "Sorted() 7000 dalam waktu 0.0008\n",
      "Sorted() 8000 dalam waktu 0.0014\n",
      "Sorted() 9000 dalam waktu 0.0008\n",
      "Sorted() 10000 dalam waktu 0.0018\n"
     ]
    }
   ],
   "source": [
    "#timsort\n",
    "\n",
    "import time\n",
    "import random\n",
    "\n",
    "#generate random int data\n",
    "for size in range(1000, 10001, 1000):\n",
    "    data = [random.randint(0, 1000000) for i in range (size)]\n",
    "\n",
    "    #tim sort\n",
    "    start = time.perf_counter()\n",
    "    hasil_tim_sort = sorted(data)\n",
    "    end = time.perf_counter()\n",
    "    elapsed = end - start\n",
    "    print(\"Sorted() %d dalam waktu %.4f\" % (size, elapsed))"
   ]
  },
  {
   "cell_type": "code",
   "execution_count": 4,
   "metadata": {},
   "outputs": [
    {
     "name": "stdout",
     "output_type": "stream",
     "text": [
      "Sort dengan sorted() dalam detik:  0.0015132999999991625\n"
     ]
    }
   ],
   "source": [
    "#sorted\n",
    "\n",
    "#library\n",
    "import time\n",
    "import random\n",
    "\n",
    "#generate random int data\n",
    "size = 10000\n",
    "data = [random.randint (0, 1000000) for i in range (size)]\n",
    "\n",
    "# tim sort\n",
    "start = time.perf_counter()\n",
    "hasil_tim_sort = sorted (data)\n",
    "end = time.perf_counter ()\n",
    "elapsed = end - start\n",
    "print (\"Sort dengan sorted() dalam detik: \", elapsed)"
   ]
  },
  {
   "cell_type": "code",
   "execution_count": 5,
   "metadata": {},
   "outputs": [
    {
     "name": "stdout",
     "output_type": "stream",
     "text": [
      "Sort dengan bubble_sort() dalam detik:  5.291356299999961\n"
     ]
    }
   ],
   "source": [
    "#bubble sort\n",
    "\n",
    "def bubble_sort (data):\n",
    "    data_size = len (data)\n",
    "    for i in range (data_size - 1):\n",
    "        for j in range (0, data_size - i - 1):\n",
    "            if data[j] > data[j + 1]:\n",
    "                temp = data[j]\n",
    "                data[j] = data[j + 1]\n",
    "                data[j + 1] = temp\n",
    "    return data\n",
    "\n",
    "start = time.perf_counter()\n",
    "hasil_bubble_sort = bubble_sort(data)\n",
    "end = time.perf_counter()\n",
    "elapsed = end - start\n",
    "print(\"Sort dengan bubble_sort() dalam detik: \",elapsed)"
   ]
  },
  {
   "cell_type": "code",
   "execution_count": 7,
   "metadata": {},
   "outputs": [
    {
     "name": "stdout",
     "output_type": "stream",
     "text": [
      "Bubble Sort 1000 dalam waktu 0.0539 \n",
      "Bubble Sort 2000 dalam waktu 0.2067 \n",
      "Bubble Sort 3000 dalam waktu 0.5227 \n",
      "Bubble Sort 4000 dalam waktu 0.8401 \n",
      "Bubble Sort 5000 dalam waktu 1.8051 \n",
      "Bubble Sort 6000 dalam waktu 2.7175 \n",
      "Bubble Sort 7000 dalam waktu 4.1102 \n",
      "Bubble Sort 8000 dalam waktu 4.6524 \n",
      "Bubble Sort 9000 dalam waktu 5.7975 \n",
      "Bubble Sort 10000 dalam waktu 7.1311 \n"
     ]
    }
   ],
   "source": [
    "#bubblesort\n",
    "import random\n",
    "import time\n",
    "\n",
    "#bubble sort\n",
    "def bubble_sort(data):\n",
    "    data_size = len(data)\n",
    "    for i in range (data_size - 1):\n",
    "        for j in range(0, data_size - i - 1):\n",
    "            if data[j] > data[j+ 1]:\n",
    "                temp = data[j]\n",
    "                data[j] = data[j+ 1]\n",
    "                data[j+1] = temp\n",
    "    return data\n",
    "\n",
    "for size in range (1000, 10001, 1000):\n",
    "    data = [random.randint (0,1000000) for i in range (size)]\n",
    "    start = time.perf_counter()\n",
    "    hasil_bubble_sort = bubble_sort(data)\n",
    "    end = time.perf_counter()\n",
    "    elapsed = end - start\n",
    "    print(\"Bubble Sort %d dalam waktu %.4f \" % (size,elapsed))"
   ]
  },
  {
   "cell_type": "code",
   "execution_count": null,
   "metadata": {},
   "outputs": [],
   "source": [
    "for i in range(n):\n",
    "    proses_satu()\n",
    "    for j in range (n):\n",
    "        proses_dua()\n",
    "        proses_tiga()"
   ]
  },
  {
   "cell_type": "code",
   "execution_count": 8,
   "metadata": {},
   "outputs": [
    {
     "name": "stdout",
     "output_type": "stream",
     "text": [
      "True\n"
     ]
    }
   ],
   "source": [
    "def sequential_search(data, cari):\n",
    "    ketemu = False\n",
    "    for i in range(len(data)):\n",
    "        if data[i] == cari:\n",
    "            ketemu = True\n",
    "            break\n",
    "    return ketemu\n",
    "\n",
    "data = [54, 98, 56, 17, 82, 39, 41, 37, 90, 48, 40, 20, 11, 36, 45]\n",
    "hasil = sequential_search (data, 37)\n",
    "print(hasil)"
   ]
  },
  {
   "cell_type": "code",
   "execution_count": null,
   "metadata": {},
   "outputs": [],
   "source": [
    "def jangkauan1(data):\n",
    "    jangkauan = 0\n",
    "    for i in range(len(data)):\n",
    "        for j in range(len(data)):\n",
    "            selisih = abs(data[i] - data[j])\n",
    "            if selisih > jangkauan:\n",
    "                jangkauan = selisih\n",
    "    return jangkauan"
   ]
  },
  {
   "cell_type": "code",
   "execution_count": null,
   "metadata": {},
   "outputs": [],
   "source": [
    "def jangkauan2 (data):\n",
    "    minimum = data[0]\n",
    "    maximum = data[0]\n",
    "    for i in range(len(data)):\n",
    "        if data[i] < minimum:\n",
    "            minimum = data[i]\n",
    "        if data[i] > maximum:\n",
    "            maximum = data[i]\n",
    "    jangkauan = abs(maximum - minimum)\n",
    "    return jangkauan"
   ]
  }
 ],
 "metadata": {
  "interpreter": {
   "hash": "ad2bdc8ecc057115af97d19610ffacc2b4e99fae6737bb82f5d7fb13d2f2c186"
  },
  "kernelspec": {
   "display_name": "Python 3.9.7 ('base')",
   "language": "python",
   "name": "python3"
  },
  "language_info": {
   "codemirror_mode": {
    "name": "ipython",
    "version": 3
   },
   "file_extension": ".py",
   "mimetype": "text/x-python",
   "name": "python",
   "nbconvert_exporter": "python",
   "pygments_lexer": "ipython3",
   "version": "3.9.7"
  },
  "orig_nbformat": 4
 },
 "nbformat": 4,
 "nbformat_minor": 2
}
