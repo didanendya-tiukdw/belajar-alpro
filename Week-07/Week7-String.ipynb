{
 "cells": [
  {
   "cell_type": "markdown",
   "metadata": {},
   "source": [
    "Akses dan Manipulasi String"
   ]
  },
  {
   "cell_type": "code",
   "execution_count": 16,
   "metadata": {},
   "outputs": [
    {
     "name": "stdout",
     "output_type": "stream",
     "text": [
      "<class 'str'>\n",
      "<class 'int'>\n",
      "MatahariBhakti\n",
      "Yuan Lukito\n",
      "Laurensius Kuncoro\n",
      "A\n",
      "C\n",
      "n\n",
      " \n",
      "o\n"
     ]
    }
   ],
   "source": [
    "namasaya = \"Antonius Rachmat C\"\n",
    "temansaya1 = \"Yuan Lukito\"\n",
    "temansaya2 = 'Laurensius Kuncoro'\n",
    "temansaya3 = \"Matahari\" + 'Bhakti' #concat\n",
    "temansaya4 = \"5\"\n",
    "temansaya5 = 5\n",
    "\n",
    "nama = input(\"Masukkan Nama : \")\n",
    "umur = int(input(\"Masukkan Umur : \"))\n",
    "\n",
    "print(type(nama))\n",
    "print(type(umur))\n",
    "\n",
    "print(temansaya3)\n",
    "print(temansaya1)\n",
    "print(temansaya2)\n",
    "\n",
    "len(namasaya) #hitung panjang string\n",
    "\n",
    "#Akses String berdasarkan Indeks\n",
    "print(namasaya[0]) #A\n",
    "print(namasaya[-1]) #C\n",
    "print(temansaya2[5]) #n\n",
    "print(temansaya1[4]) #spasi\n",
    "\n",
    "Nama = temansaya1[-1]\n",
    "print(Nama)"
   ]
  },
  {
   "cell_type": "markdown",
   "metadata": {},
   "source": [
    "Operator Pada String"
   ]
  },
  {
   "cell_type": "code",
   "execution_count": 21,
   "metadata": {},
   "outputs": [
    {
     "name": "stdout",
     "output_type": "stream",
     "text": [
      "True\n",
      "False\n",
      "False\n"
     ]
    }
   ],
   "source": [
    "#Operator in\n",
    "kalimat = \"Saya mau makan\" #harus identik\n",
    "data = \"mau\"\n",
    "data1 = \"Mau\"\n",
    "data2 = \"MAU\"\n",
    "print(data in kalimat)\n",
    "print(data1 in kalimat)\n",
    "print(data2 in kalimat)"
   ]
  },
  {
   "cell_type": "code",
   "execution_count": 30,
   "metadata": {},
   "outputs": [
    {
     "name": "stdout",
     "output_type": "stream",
     "text": [
      "Ya\n",
      "Tidak Sama\n"
     ]
    }
   ],
   "source": [
    "#Operator Comparisson\n",
    "#note harus identik\n",
    "\n",
    "a = \"saya\" #4string\n",
    "b = \"dia\" #3sting\n",
    "c = \"SAYA\"\n",
    "\n",
    "if a > b:\n",
    "    print(\"Ya\")\n",
    "else:\n",
    "    print(\"tidak\")\n",
    "\n",
    "if c == a:\n",
    "    print(\"Sama\")\n",
    "else:\n",
    "    print(\"Tidak Sama\")\n",
    "\n"
   ]
  },
  {
   "cell_type": "code",
   "execution_count": 38,
   "metadata": {},
   "outputs": [
    {
     "name": "stdout",
     "output_type": "stream",
     "text": [
      "42\n",
      "a\n",
      "t\n",
      "U\n"
     ]
    }
   ],
   "source": [
    "#Fungsi len\n",
    "kalimat = \"Universitas Kristen Duta Wacana Yogyakarta\"\n",
    "print(len(kalimat))\n",
    "\n",
    "print(kalimat[len(kalimat) - 1])\n",
    "print(kalimat[len(kalimat) - 2])\n",
    "print(kalimat[0])"
   ]
  },
  {
   "cell_type": "code",
   "execution_count": 50,
   "metadata": {},
   "outputs": [
    {
     "name": "stdout",
     "output_type": "stream",
     "text": [
      "I n d o n e s i a   J a y a  \n",
      "I n d o n e s i a   J a y a "
     ]
    }
   ],
   "source": [
    "#Traversing String\n",
    "\n",
    "#cara 1  --> akses based on index\n",
    "kalimat = \"Indonesia Jaya\"\n",
    "i = 0\n",
    "while i < len(kalimat):\n",
    "    print(kalimat[i], end=\" \")\n",
    "    i = i + 1 #i +=1\n",
    "\n",
    "print(\" \")\n",
    "\n",
    "#cara 2 --> tanpa akses ke indeks.\n",
    "kalimat2 = \"Indonesia Jaya\"\n",
    "for kal in kalimat2:\n",
    "    print(kal, end=\" \")"
   ]
  },
  {
   "cell_type": "code",
   "execution_count": 54,
   "metadata": {},
   "outputs": [
    {
     "name": "stdout",
     "output_type": "stream",
     "text": [
      "Cerita Rakyat\n",
      "erita Rakyat\n",
      "Cerita Ra\n",
      "ita Ra\n"
     ]
    }
   ],
   "source": [
    "#String Slice\n",
    "\n",
    "kalimat = \"Cerita Rakyat\"\n",
    "#syntax = <string>[awal:akhir]\n",
    "\n",
    "print(kalimat[:])\n",
    "print(kalimat[1:])\n",
    "print(kalimat[:9])\n",
    "print(kalimat[3:9])\n"
   ]
  },
  {
   "cell_type": "code",
   "execution_count": 61,
   "metadata": {},
   "outputs": [
    {
     "name": "stdout",
     "output_type": "stream",
     "text": [
      "kalimat awal :  satu\n",
      "kalimat setelah dirubah :  soto\n"
     ]
    }
   ],
   "source": [
    "kalimat = \"satu\"\n",
    "#kalimat[0] = \"b\" #tidak bisa karena 'str' object does not support item assignment\n",
    "\n",
    "kalimat1= kalimat[0] + \"oto\"\n",
    "print(\"kalimat awal : \", kalimat)\n",
    "print(\"kalimat setelah dirubah : \", kalimat1)"
   ]
  },
  {
   "cell_type": "code",
   "execution_count": 81,
   "metadata": {},
   "outputs": [
    {
     "name": "stdout",
     "output_type": "stream",
     "text": [
      "1satu dua tiga1\n",
      "3\n",
      "False\n",
      "False\n",
      "1satu dua tiga1\n",
      "6\n",
      "1satuduatiga1\n"
     ]
    }
   ],
   "source": [
    "kalimat = \"1satu dua tiga1\"\n",
    "kalimat2 = kalimat.capitalize()\n",
    "print(kalimat2)\n",
    "\n",
    "hasil = kalimat.count(\"a\")\n",
    "print(hasil)\n",
    "\n",
    "dimulai = kalimat.startswith(\"s\")\n",
    "print(dimulai)\n",
    "\n",
    "diakhiri = kalimat.endswith(\"s\")\n",
    "print(dimulai)\n",
    "\n",
    "fstrip = kalimat.strip(' ')\n",
    "print(fstrip)\n",
    "\n",
    "temu = kalimat.find(\"dua\")\n",
    "print(temu)\n",
    "\n",
    "freplace = kalimat.replace(\" \",\"\")\n",
    "print(freplace)"
   ]
  },
  {
   "cell_type": "code",
   "execution_count": 86,
   "metadata": {},
   "outputs": [
    {
     "name": "stdout",
     "output_type": "stream",
     "text": [
      "saya  lapar\n",
      "saya saya saya saya saya saya saya saya saya saya saya saya saya saya saya saya saya saya saya saya saya saya saya saya saya saya saya saya saya saya saya saya saya saya saya saya saya saya saya saya saya saya saya saya saya saya saya saya saya saya saya saya saya saya saya saya saya saya saya saya saya saya saya saya saya saya saya saya saya saya saya saya saya saya saya saya saya saya saya saya saya saya saya saya saya saya saya saya saya saya saya saya saya saya saya saya saya saya saya saya \n"
     ]
    }
   ],
   "source": [
    "a1 = \"saya \"\n",
    "a2 = \"lapar\"\n",
    "a3 = a1 + \" \" + a2\n",
    "print(a3)\n",
    "\n",
    "print(a1 * 100)"
   ]
  },
  {
   "cell_type": "code",
   "execution_count": 97,
   "metadata": {},
   "outputs": [
    {
     "name": "stdout",
     "output_type": "stream",
     "text": [
      "Kalimat Awal :  Saudara-saudara, pada tanggal 17-08-1945 Indonesia Merdeka\n",
      "Format Baru : Saudara-saudara, pada 08/17/1945 Indonesia Merdeka\n"
     ]
    }
   ],
   "source": [
    "#Simple Parsing String\n",
    "#Ganti format 17-08-1945 menjadi 08/17/1945\n",
    "\n",
    "kalimat = \"Saudara-saudara, pada tanggal 17-08-1945 Indonesia Merdeka\"\n",
    "\n",
    "hasil = kalimat.split(\" \") #split kalimat berdasarkan spasi\n",
    "\n",
    "for kal in hasil:\n",
    "    if kal[0].isdigit(): # cari yang merupakan digit bilangan\n",
    "        hasil2 = kal.split(\"-\") # digit bilangan ketemu, split berdasarkan tanda strip\n",
    "\n",
    "        tglbaru = hasil2[1]+'/'+hasil2[0]+\"/\"+hasil2[2] \n",
    "        \n",
    "        #print(hasil2[1]+'/'+hasil2[0]+\"/\"+hasil2[2])\n",
    "\n",
    "print(\"Kalimat Awal : \", kalimat)\n",
    "print (\"Format Baru : Saudara-saudara, pada \" + tglbaru + \" Indonesia Merdeka\")\n",
    "\n"
   ]
  },
  {
   "cell_type": "code",
   "execution_count": 101,
   "metadata": {},
   "outputs": [
    {
     "name": "stdout",
     "output_type": "stream",
     "text": [
      "Untuk menghitung huruf hidup digunakan tahapan sebagai berikut\n",
      "Jumlah huruf vokal : 23\n"
     ]
    }
   ],
   "source": [
    "#Pembahasan Soal 1\n",
    "#kalimat = \"AnTonIUS\"\n",
    "kalimat = (input(\"Masukkan kalimat yang akan dihitung : \"))\n",
    "hurufkecil = kalimat.lower() #ubah semua jadi huruf kecil\n",
    "#print(hurufkecil)\n",
    "tmp_vokal = 0\n",
    "for x in 'aiueo':\n",
    "    jml = hurufkecil.count(x)\n",
    "    tmp_vokal = tmp_vokal + jml\n",
    "\n",
    "print(kalimat)\n",
    "print(\"Jumlah huruf vokal :\", tmp_vokal)"
   ]
  },
  {
   "cell_type": "code",
   "execution_count": 102,
   "metadata": {},
   "outputs": [
    {
     "name": "stdout",
     "output_type": "stream",
     "text": [
      "21-03-2022\n"
     ]
    }
   ],
   "source": [
    "#Pembahasan Soal 2\n",
    "# YYYY-MM-DD menjadi DD-MM-YYYY\n",
    "\n",
    "tgl = \"2022-03-21\"\n",
    "hasil = tgl.split(\"-\")\n",
    "tgl_new = hasil[2] + \"-\" + hasil[1] + \"-\" + hasil[0]\n",
    "print(tgl_new)"
   ]
  },
  {
   "cell_type": "code",
   "execution_count": 107,
   "metadata": {},
   "outputs": [
    {
     "name": "stdout",
     "output_type": "stream",
     "text": [
      "palindrom\n"
     ]
    }
   ],
   "source": [
    "#Pembahasan Soals 3\n",
    "#Palindrom\n",
    "\n",
    "kata1 = input(\"Masukkan kata : \")\n",
    "kata1 = kata1.lower()\n",
    "\n",
    "kata1 = ''.join([i for i in kata1 if i.isalpha()]) #remove yang bukan alfabet, tanda baca diremove\n",
    "\n",
    "kata2 = kata1[::-1]\n",
    "if kata2 == kata1:\n",
    "    print(\"palindrom\")\n",
    "else:\n",
    "    print(\"bukan palindrom\")"
   ]
  },
  {
   "cell_type": "code",
   "execution_count": 110,
   "metadata": {},
   "outputs": [
    {
     "name": "stdout",
     "output_type": "stream",
     "text": [
      "['a quick', 'quick brown', 'brown jump', 'jump over', 'over the', 'the lazy', 'lazy dog.', 'dog.']\n"
     ]
    }
   ],
   "source": [
    "#Pembahasan Soal 4\n",
    "\n",
    "text = \"A quick brown jump over the lazy dog.\"\n",
    "\n",
    "def ambil_kata_kalimat(kalimat, n):\n",
    "    kalimat = kalimat.lower()\n",
    "    hasil_akhir = []\n",
    "    hasil = kalimat.split()\n",
    "    for i in range(0, len(hasil)):\n",
    "        tmp = ' '.join(hasil[i:i + n])\n",
    "        hasil_akhir.append(tmp)\n",
    "    \n",
    "    return hasil_akhir\n",
    "\n",
    "print(ambil_kata_kalimat(text, 2))"
   ]
  }
 ],
 "metadata": {
  "interpreter": {
   "hash": "b3ba2566441a7c06988d0923437866b63cedc61552a5af99d1f4fb67d367b25f"
  },
  "kernelspec": {
   "display_name": "Python 3.9.7 ('base')",
   "language": "python",
   "name": "python3"
  },
  "language_info": {
   "codemirror_mode": {
    "name": "ipython",
    "version": 3
   },
   "file_extension": ".py",
   "mimetype": "text/x-python",
   "name": "python",
   "nbconvert_exporter": "python",
   "pygments_lexer": "ipython3",
   "version": "3.9.7"
  },
  "orig_nbformat": 4
 },
 "nbformat": 4,
 "nbformat_minor": 2
}
