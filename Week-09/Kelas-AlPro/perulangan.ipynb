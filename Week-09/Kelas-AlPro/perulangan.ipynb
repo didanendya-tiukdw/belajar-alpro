{
 "cells": [
  {
   "cell_type": "code",
   "execution_count": 3,
   "metadata": {},
   "outputs": [
    {
     "name": "stdout",
     "output_type": "stream",
     "text": [
      "Alpro itu mudah!\n",
      "Alpro itu mudah!\n"
     ]
    }
   ],
   "source": [
    "#tanpa perulangan\n",
    "print(\"Alpro itu mudah!\")\n",
    "print(\"Alpro itu mudah!\")"
   ]
  },
  {
   "cell_type": "code",
   "execution_count": 2,
   "metadata": {},
   "outputs": [
    {
     "name": "stdout",
     "output_type": "stream",
     "text": [
      "Alpro itu mudah!\n",
      "Alpro itu mudah!\n",
      "Alpro itu mudah!\n",
      "Alpro itu mudah!\n",
      "Alpro itu mudah!\n"
     ]
    }
   ],
   "source": [
    "#for in python\n",
    "for i in range(5)  :\n",
    "\tprint(\"Alpro itu mudah!\")\n"
   ]
  },
  {
   "cell_type": "code",
   "execution_count": 4,
   "metadata": {},
   "outputs": [
    {
     "name": "stdout",
     "output_type": "stream",
     "text": [
      "Alpro itu mudah!\n",
      "Alpro itu mudah!\n",
      "Alpro itu mudah!\n",
      "Alpro itu mudah!\n",
      "Alpro itu mudah!\n"
     ]
    }
   ],
   "source": [
    "#defaultnya incement\n",
    "for i in range(5)  :\n",
    "\tprint(\"Alpro itu mudah!\")\n"
   ]
  },
  {
   "cell_type": "code",
   "execution_count": 5,
   "metadata": {},
   "outputs": [
    {
     "name": "stdout",
     "output_type": "stream",
     "text": [
      "Alpro itu mudah!\n",
      "Alpro itu mudah!\n",
      "Alpro itu mudah!\n",
      "Alpro itu mudah!\n",
      "Alpro itu mudah!\n"
     ]
    }
   ],
   "source": [
    "#defaultnya decrement\n",
    "for i in range(5,0,-1)  :\n",
    "\tprint(\"Alpro itu mudah!\")\n"
   ]
  },
  {
   "cell_type": "code",
   "execution_count": 10,
   "metadata": {},
   "outputs": [
    {
     "name": "stdout",
     "output_type": "stream",
     "text": [
      "1 adalah bilangan ganjil\n",
      "2 adalah bilangan genap\n",
      "3 adalah bilangan ganjil\n",
      "4 adalah bilangan genap\n",
      "5 adalah bilangan ganjil\n",
      "6 adalah bilangan genap\n",
      "7 adalah bilangan ganjil\n",
      "8 adalah bilangan genap\n",
      "9 adalah bilangan ganjil\n",
      "10 adalah bilangan genap\n",
      "11 adalah bilangan ganjil\n",
      "12 adalah bilangan genap\n",
      "13 adalah bilangan ganjil\n",
      "14 adalah bilangan genap\n",
      "15 adalah bilangan ganjil\n",
      "16 adalah bilangan genap\n",
      "17 adalah bilangan ganjil\n",
      "18 adalah bilangan genap\n",
      "19 adalah bilangan ganjil\n"
     ]
    }
   ],
   "source": [
    "for i in range(1, 20):\n",
    "    if i % 2 == 0:\n",
    "        print(\"%d adalah bilangan genap\" % i)\n",
    "    else:\n",
    "        print(\"%d adalah bilangan ganjil\" % i)\n"
   ]
  },
  {
   "cell_type": "code",
   "execution_count": 11,
   "metadata": {},
   "outputs": [
    {
     "name": "stdout",
     "output_type": "stream",
     "text": [
      "4\n",
      "8\n",
      "12\n",
      "16\n",
      "20\n",
      "24\n",
      "28\n",
      "32\n",
      "36\n",
      "40\n",
      "44\n",
      "48\n",
      "52\n",
      "56\n",
      "60\n",
      "64\n",
      "68\n",
      "72\n",
      "76\n",
      "80\n",
      "84\n",
      "88\n",
      "92\n",
      "96\n"
     ]
    }
   ],
   "source": [
    "#bulat kelipatan 4\n",
    "for i in range(1, 100):\n",
    "    if i % 4 == 0:\n",
    "        print(i)\n"
   ]
  },
  {
   "cell_type": "code",
   "execution_count": 12,
   "metadata": {},
   "outputs": [
    {
     "name": "stdout",
     "output_type": "stream",
     "text": [
      "22\n",
      "11\n",
      "34\n",
      "17\n",
      "52\n",
      "26\n",
      "13\n",
      "40\n",
      "20\n",
      "10\n",
      "5\n",
      "16\n",
      "8\n",
      "4\n",
      "2\n",
      "1\n"
     ]
    }
   ],
   "source": [
    "# while python\n",
    "input = int(input('Masukan bilangan: '))\n",
    "while(input!=1):\n",
    "    if input % 2 == 1: #ganjil\n",
    "        input = input * 3 + 1\n",
    "    else:\n",
    "        input //= 2 #genap\n",
    "    print(input)\n"
   ]
  }
 ],
 "metadata": {
  "kernelspec": {
   "display_name": "base",
   "language": "python",
   "name": "python3"
  },
  "language_info": {
   "codemirror_mode": {
    "name": "ipython",
    "version": 3
   },
   "file_extension": ".py",
   "mimetype": "text/x-python",
   "name": "python",
   "nbconvert_exporter": "python",
   "pygments_lexer": "ipython3",
   "version": "3.9.7"
  }
 },
 "nbformat": 4,
 "nbformat_minor": 2
}
